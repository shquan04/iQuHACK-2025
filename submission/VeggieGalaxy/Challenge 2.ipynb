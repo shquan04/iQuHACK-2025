{
 "cells": [
  {
   "cell_type": "code",
   "execution_count": 1,
   "id": "00d0502a-50d5-4904-a3a1-b6bab7ad41b2",
   "metadata": {
    "tags": []
   },
   "outputs": [],
   "source": [
    "import dynamiqs as dq\n",
    "import jax.numpy as jnp\n",
    "\n",
    "import matplotlib.pyplot as plt\n",
    "from matplotlib.animation import FuncAnimation, PillowWriter\n",
    "from IPython.display import HTML, display"
   ]
  },
  {
   "cell_type": "code",
   "execution_count": null,
   "id": "e5ea45f4-c511-49d7-a39b-cf92abcba844",
   "metadata": {
    "tags": []
   },
   "outputs": [],
   "source": [
    "## Task 2.1 - Lab frame simulation\n",
    "# Hilbert space truncations\n",
    "na = 20  # Memory mode a - encodes the logical cat qubit\n",
    "nb = 5   # Buffer mode b - mediates 2-photon dissipation to stabilize the cat state\n",
    "\n",
    "# Annihilation operators in the composite Hilbert space\n",
    "a = dq.tensor(dq.destroy(na), dq.eye(nb))   # Memory mode a annihilation operator\n",
    "b = dq.tensor(dq.eye(na), dq.destroy(nb))   # Buffer mode b annihilation operator\n",
    "\n",
    "# Both modes start in a vacuum \n",
    "psi0 = dq.tensor(dq.fock(na, 0), dq.fock(nb, 0))\n",
    "\n",
    "# Using A100, so double is supported. We used Clemson's Palmetto 2 Supercomputer\n",
    "dq.set_precision('double') \n",
    "\n",
    "# Define constants\n",
    "w_a0 = 5.26       # [GHz]\n",
    "w_b0 = 7.70       # [GHz]\n",
    "psi_a = 0.06      # [-]\n",
    "psi_b = 0.29      # [-]\n",
    "E_j = 42.76       # [GHz]\n",
    "DE_j = 0.47       # [GHz]\n",
    "w_d = 7.623       # [GHz]\n",
    "w_p = 2.891       # [GHz]\n",
    "e_d = -3.815e-3   # [GHz]\n",
    "e_p = 0.122       # [rad]\n",
    "kappa_a = 9.3e-6  # [GHz]\n",
    "kappa_b = 2.6e-3  # [GHz]\n",
    "\n",
    "# Initialize the time array\n",
    "T = 4\n",
    "tsave = jnp.linspace(0, T, 100)\n",
    "\n",
    "# Returns the Asymmetrically Threaded SQUID Hamiltonian\n",
    "def ATS(t):\n",
    "    e_t = e_p * jnp.cos(w_p * t)\n",
    "    A = psi_a * (a + a.dag()) + psi_b * (b + b.dag())\n",
    "    term1 = -2*E_j * jnp.sin(e_t) * jnp.sin(dq.to_jax(A)) \n",
    "    term2 = 2 * DE_j * jnp.cos(e_t) * jnp.cos(dq.to_jax(A))\n",
    "    ATS = term1 + term2\n",
    "    return ATS \n",
    "\n",
    "# Returns the 1-photon drive Hamiltonian\n",
    "def d(t):\n",
    "    d = 2 * e_d * jnp.cos(w_d * t)\n",
    "    return d * (b + dq.dag(b))\n",
    "\n",
    "# Returns the total Hamiltonian\n",
    "def get_H(t):\n",
    "    H_0 = w_a0 * (dq.dag(a) @ a) + w_b0 * (dq.dag(b) @ b)\n",
    "    H_d = d(t)\n",
    "    H_ATS = ATS(t)\n",
    "    return H_0 + H_ATS + H_d\n",
    "\n",
    "# The Hamiltonian depends explicitly on t, so we need timecallable()\n",
    "H = dq.timecallable(get_H)\n",
    "\n",
    "# Typical 2-mode loss operator\n",
    "loss_ops = [jnp.sqrt(kappa_a) * a, jnp.sqrt(kappa_b) * b]\n",
    "\n",
    "# Results from solving the Lindblad master equation\n",
    "res = dq.mesolve(H, loss_ops, psi0, tsave)\n",
    "\n",
    "# Animation plotting\n",
    "fig_w, ax_w = plt.subplots(1, 1, figsize=(6, 6))\n",
    "def update(frame):\n",
    "    ax_w.cla()                                # Clear the axis\n",
    "    rho_a = dq.ptrace(res.states[frame], 0)   # Partial trace over the buffer mode to extract the reduced state of the memory mode\n",
    "    dq.plot.wigner(rho_a, ax=ax_w)            # Plots the Wigner function for the reduced state above, rho_a\n",
    "    ax_w.set_title(f\"Mode a Wigner Function\\nTime = {tsave[frame]:.2f}\")   # Sets the title of the animation\n",
    "\n",
    "ani = FuncAnimation(fig_w, update, frames=len(tsave), repeat=False)   # Creates the animation\n",
    "gif_filename = 'Task 2.1 Wigner Function Evolution.gif'               # Animation file name\n",
    "ani.save(gif_filename, writer=PillowWriter(fps=len(tsave) / 4))       # Saves the animation to the same directory that this file is in\n",
    "plt.close(fig_w)                                                      # Closes the file in matplotlib to free up memory \n",
    "display(HTML(f'<img src=\"{gif_filename}\">'))                          # Displays the animation file"
   ]
  },
  {
   "cell_type": "code",
   "execution_count": null,
   "id": "bd7c6665-9be4-4783-a4e6-23048e776e25",
   "metadata": {},
   "outputs": [],
   "source": [
    "## Task 2.2 - Rotated-displaced frame simulation"
   ]
  }
 ],
 "metadata": {
  "kernelspec": {
   "display_name": "qc",
   "language": "python",
   "name": "python3"
  },
  "language_info": {
   "codemirror_mode": {
    "name": "ipython",
    "version": 3
   },
   "file_extension": ".py",
   "mimetype": "text/x-python",
   "name": "python",
   "nbconvert_exporter": "python",
   "pygments_lexer": "ipython3",
   "version": "3.12.7"
  }
 },
 "nbformat": 4,
 "nbformat_minor": 5
}
